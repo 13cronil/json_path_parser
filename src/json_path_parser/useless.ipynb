{
 "cells": [
  {
   "cell_type": "code",
   "execution_count": 1,
   "id": "576c7f3e",
   "metadata": {},
   "outputs": [],
   "source": [
    "# Cell 1: Setup\n",
    "from lark import Lark, Transformer, Tree, Token\n",
    "from json_path_parser.parser import create_parser\n",
    "from json_path_parser.transformer import JSONPathTransformer\n",
    "\n",
    "parser = create_parser()\n"
   ]
  },
  {
   "cell_type": "code",
   "execution_count": 2,
   "id": "edd315ba",
   "metadata": {},
   "outputs": [],
   "source": [
    "\n",
    "# Cell 2: Test different inputs\n",
    "test_cases = [\n",
    "    \"$\",\n",
    "    \"$.name\", \n",
    "    \"$[0]\",\n",
    "    \"$['key']\",\n",
    "    \"$.store.book[0:2]\"\n",
    "]\n"
   ]
  },
  {
   "cell_type": "code",
   "execution_count": 3,
   "id": "80d896d9",
   "metadata": {},
   "outputs": [
    {
     "name": "stdout",
     "output_type": "stream",
     "text": [
      "\n",
      "=== Testing: $ ===\n",
      "root\n",
      "\n",
      "\n",
      "=== Testing: $.name ===\n",
      "root\n",
      "  field\tname\n",
      "\n",
      "\n",
      "=== Testing: $[0] ===\n",
      "root\n",
      "  bracket_selector\n",
      "    index\t0\n",
      "\n",
      "\n",
      "=== Testing: $['key'] ===\n",
      "root\n",
      "  bracket_selector\n",
      "    name\n",
      "      string\t'key'\n",
      "\n",
      "\n",
      "=== Testing: $.store.book[0:2] ===\n",
      "root\n",
      "  field\tstore\n",
      "  field\tbook\n",
      "  bracket_selector\n",
      "    slice\n",
      "      0\n",
      "      2\n",
      "\n"
     ]
    }
   ],
   "source": [
    "\n",
    "for case in test_cases:\n",
    "    print(f\"\\n=== Testing: {case} ===\")\n",
    "    tree = parser.parse(case)\n",
    "    print(tree.pretty())\n"
   ]
  },
  {
   "cell_type": "code",
   "execution_count": 4,
   "id": "54edc0f0",
   "metadata": {},
   "outputs": [],
   "source": [
    "\n",
    "# Cell 3: Deep dive into one example\n",
    "tree = parser.parse(\"$.store[0].name\")\n"
   ]
  },
  {
   "cell_type": "code",
   "execution_count": 5,
   "id": "e1faddf9",
   "metadata": {},
   "outputs": [
    {
     "name": "stdout",
     "output_type": "stream",
     "text": [
      "\n",
      "Transformed Result: JSONPath(segments=[Field(name='store', wildcard=False), BracketSelector(content=Index(idx=0)), Field(name='name', wildcard=False)])\n"
     ]
    }
   ],
   "source": [
    "json_transformer = JSONPathTransformer()\n",
    "result = json_transformer.transform(tree)\n",
    "print(f\"\\nTransformed Result: {result}\")"
   ]
  },
  {
   "cell_type": "code",
   "execution_count": 6,
   "id": "e9134956",
   "metadata": {},
   "outputs": [
    {
     "data": {
      "text/plain": [
       "JSONPath(segments=[Field(name='store', wildcard=False), BracketSelector(content=Index(idx=0)), Field(name='name', wildcard=False)])"
      ]
     },
     "execution_count": 6,
     "metadata": {},
     "output_type": "execute_result"
    }
   ],
   "source": [
    "result"
   ]
  },
  {
   "cell_type": "code",
   "execution_count": 7,
   "id": "7b0828fc",
   "metadata": {},
   "outputs": [
    {
     "data": {
      "text/plain": [
       "'root'"
      ]
     },
     "execution_count": 7,
     "metadata": {},
     "output_type": "execute_result"
    }
   ],
   "source": [
    "tree.data"
   ]
  },
  {
   "cell_type": "code",
   "execution_count": 8,
   "id": "e772bcf1",
   "metadata": {},
   "outputs": [
    {
     "name": "stdout",
     "output_type": "stream",
     "text": [
      "Root data: root\n",
      "Root children count: 3\n",
      "Dollar sign: Tree('field', [Token('CNAME', 'store')])\n",
      "Segment 0: bracket_selector\n",
      "Segment 1: field\n"
     ]
    }
   ],
   "source": [
    "\n",
    "# Play around with the tree\n",
    "print(\"Root data:\", tree.data)\n",
    "print(\"Root children count:\", len(tree.children))\n",
    "\n",
    "# Access specific parts\n",
    "dollar_sign = tree.children[0]  # The \"$\"\n",
    "segments = tree.children[1:]    # Everything after $\n",
    "\n",
    "print(f\"Dollar sign: {dollar_sign}\")\n",
    "for i, segment in enumerate(segments):\n",
    "    print(f\"Segment {i}: {segment.data if hasattr(segment, 'data') else segment}\")"
   ]
  },
  {
   "cell_type": "code",
   "execution_count": 10,
   "id": "0a55d607",
   "metadata": {},
   "outputs": [
    {
     "data": {
      "text/plain": [
       "[Field(name='store', wildcard=False),\n",
       " BracketSelector(content=Index(idx=0)),\n",
       " Field(name='name', wildcard=False)]"
      ]
     },
     "execution_count": 10,
     "metadata": {},
     "output_type": "execute_result"
    }
   ],
   "source": [
    "result.segments"
   ]
  },
  {
   "cell_type": "code",
   "execution_count": 12,
   "id": "7973ac5b",
   "metadata": {},
   "outputs": [],
   "source": [
    "test = [0, 1, 2, 3, 4]\n"
   ]
  },
  {
   "cell_type": "code",
   "execution_count": 15,
   "id": "2c1d25ca",
   "metadata": {},
   "outputs": [
    {
     "data": {
      "text/plain": [
       "[0]"
      ]
     },
     "execution_count": 15,
     "metadata": {},
     "output_type": "execute_result"
    }
   ],
   "source": [
    "test[0:None:-50]"
   ]
  }
 ],
 "metadata": {
  "kernelspec": {
   "display_name": ".venv",
   "language": "python",
   "name": "python3"
  },
  "language_info": {
   "codemirror_mode": {
    "name": "ipython",
    "version": 3
   },
   "file_extension": ".py",
   "mimetype": "text/x-python",
   "name": "python",
   "nbconvert_exporter": "python",
   "pygments_lexer": "ipython3",
   "version": "3.13.7"
  }
 },
 "nbformat": 4,
 "nbformat_minor": 5
}
